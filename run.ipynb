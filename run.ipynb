{
 "cells": [
  {
   "cell_type": "code",
   "execution_count": 15,
   "metadata": {
    "vscode": {
     "languageId": "shellscript"
    }
   },
   "outputs": [
    {
     "name": "stdout",
     "output_type": "stream",
     "text": [
      "\u001b[36mINFO\u001b[0m[0000] Using config file /workspaces/ksailnet/.devcontainer/k3d.yaml \n",
      "\u001b[36mINFO\u001b[0m[0000] Prep: Network                                \n",
      "\u001b[36mINFO\u001b[0m[0000] Re-using existing network 'k3d' (9289d49b248788855f6c19c2bc796a53d9fe498df6ec3adfc78d7987a9a5af5d) \n",
      "\u001b[36mINFO\u001b[0m[0000] Created volume 'k3d-k3s-default-images'      \n",
      "\u001b[36mINFO\u001b[0m[0001] Creating node 'k3d-k3s-default-server-0'     \n",
      "\u001b[36mINFO\u001b[0m[0001] Creating LoadBalancer 'k3d-k3s-default-serverlb' \n",
      "\u001b[36mINFO\u001b[0m[0001] Starting cluster 'k3s-default'               \n",
      "\u001b[36mINFO\u001b[0m[0001] Starting servers...                          \n",
      "\u001b[36mINFO\u001b[0m[0001] Starting Node 'k3d-k3s-default-server-0'     \n",
      "\u001b[36mINFO\u001b[0m[0006] Starting agents...                           \n",
      "\u001b[36mINFO\u001b[0m[0006] Starting helpers...                          \n",
      "\u001b[36mINFO\u001b[0m[0006] Starting Node 'k3d-k3s-default-serverlb'     \n",
      "\u001b[36mINFO\u001b[0m[0007] (Optional) Trying to get IP of the docker host and inject it into the cluster as 'host.k3d.internal' for easy access \n",
      "\u001b[36mINFO\u001b[0m[0011] Successfully added host record to /etc/hosts in 2/2 nodes and to the CoreDNS ConfigMap \n",
      "\u001b[36mINFO\u001b[0m[0011] Cluster 'k3s-default' created successfully!  \n",
      "\u001b[36mINFO\u001b[0m[0011] --kubeconfig-update-default=false --> sets --kubeconfig-switch-context=false \n",
      "\u001b[36mINFO\u001b[0m[0011] You can now use it like this:                \n",
      "kubectl config use-context k3d-k3s-default\n",
      "kubectl cluster-info\n"
     ]
    }
   ],
   "source": [
    "!#/usr/local/bin/k3d cluster create -c /workspaces/ksailnet/.devcontainer/k3d.yaml"
   ]
  },
  {
   "cell_type": "code",
   "execution_count": 7,
   "metadata": {
    "vscode": {
     "languageId": "shellscript"
    }
   },
   "outputs": [
    {
     "name": "stderr",
     "output_type": "stream",
     "text": [
      "305.16s - pydevd: Sending message related to process being replaced timed-out after 5 seconds\n",
      "310.41s - pydevd: Sending message related to process being replaced timed-out after 5 seconds\n"
     ]
    },
    {
     "name": "stdout",
     "output_type": "stream",
     "text": [
      "Error while executing topic command : Topic 'test-topic' already exists.\n",
      "[2023-08-25 07:52:13,323] ERROR org.apache.kafka.common.errors.TopicExistsException: Topic 'test-topic' already exists.\n",
      " (kafka.admin.TopicCommand$)\n",
      "command terminated with exit code 1\n"
     ]
    },
    {
     "name": "stderr",
     "output_type": "stream",
     "text": [
      "317.22s - pydevd: Sending message related to process being replaced timed-out after 5 seconds\n"
     ]
    },
    {
     "name": "stdout",
     "output_type": "stream",
     "text": [
      ">"
     ]
    }
   ],
   "source": [
    "! alias kubectl=\"/usr/local/bin/kubectl\"\n",
    "! kubectl exec -it kafka-client -- /opt/bitnami/kafka/bin/kafka-topics.sh --create --topic test-topic --bootstrap-server kafka-0.kafka-svc.default.svc.cluster.local:9092 --replication-factor 1 --partitions 1\n",
    "\n",
    "! kubectl exec -it kafka-client -- /opt/bitnami/kafka/bin/kafka-console-producer.sh --topic test-topic --bootstrap-server kafka-0.kafka-svc.default.svc.cluster.local:9092\n",
    "\n",
    "! kubectl exec -it kafka-client -- /opt/bitnami/kafka/bin/kafka-console-consumer.sh --topic test-topic --from-beginning --bootstrap-server kafka-0.kafka-svc.default.svc.cluster.local:9092\n",
    "\n",
    "! kubectl exec -it kafka-client -- /opt/bitnami/kafka/bin/kafka-topics.sh --describe --topic test-topic --bootstrap-server kafka-0.kafka-svc.default.svc.cluster.local:9092\n",
    "\n",
    "! kubectl exec -it kafka-client -- /opt/bitnami/kafka/bin/kafka-topics.sh --alter --topic test-topic --bootstrap-server kafka-0.kafka-svc.default.svc.cluster.local:9092 --partitions 3\n",
    "\n",
    "! kubectl exec -it kafka-client -- /opt/bitnami/kafka/bin/kafka-topics.sh --describe --topic test-topic --bootstrap-server kafka-0.kafka-svc.default.svc.cluster.local:9092\n",
    "\n",
    "! kubectl exec -it kafka-client -- /opt/bitnami/kafka/bin/kafka-topics.sh --delete --topic test-topic --bootstrap-server kafka-0.kafka-svc.default.svc.cluster.local:9092\n"
   ]
  }
 ],
 "metadata": {
  "kernelspec": {
   "display_name": "Python 3",
   "language": "python",
   "name": "python3"
  },
  "language_info": {
   "codemirror_mode": {
    "name": "ipython",
    "version": 3
   },
   "file_extension": ".py",
   "mimetype": "text/x-python",
   "name": "python",
   "nbconvert_exporter": "python",
   "pygments_lexer": "ipython3",
   "version": "3.9.2"
  },
  "orig_nbformat": 4
 },
 "nbformat": 4,
 "nbformat_minor": 2
}
