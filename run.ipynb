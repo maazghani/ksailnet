{
 "cells": [
  {
   "cell_type": "code",
   "execution_count": 3,
   "metadata": {
    "vscode": {
     "languageId": "shellscript"
    }
   },
   "outputs": [
    {
     "name": "stderr",
     "output_type": "stream",
     "text": [
      "80.43s - pydevd: Sending message related to process being replaced timed-out after 5 seconds\n"
     ]
    }
   ],
   "source": [
    "!#/usr/local/bin/k3d cluster create kube-cluster \\\n",
    "  --agents 3 \\\n",
    "  --k3s-node-label topology.kubernetes.io/zone=zone-a@agent:0 \\\n",
    "  --k3s-node-label topology.kubernetes.io/zone=zone-b@agent:1 \\\n",
    "  --k3s-node-label topology.kubernetes.io/zone=zone-c@agent:2"
   ]
  },
  {
   "cell_type": "code",
   "execution_count": 7,
   "metadata": {
    "vscode": {
     "languageId": "shellscript"
    }
   },
   "outputs": [
    {
     "name": "stderr",
     "output_type": "stream",
     "text": [
      "305.16s - pydevd: Sending message related to process being replaced timed-out after 5 seconds\n",
      "310.41s - pydevd: Sending message related to process being replaced timed-out after 5 seconds\n"
     ]
    },
    {
     "name": "stdout",
     "output_type": "stream",
     "text": [
      "Error while executing topic command : Topic 'test-topic' already exists.\n",
      "[2023-08-25 07:52:13,323] ERROR org.apache.kafka.common.errors.TopicExistsException: Topic 'test-topic' already exists.\n",
      " (kafka.admin.TopicCommand$)\n",
      "command terminated with exit code 1\n"
     ]
    },
    {
     "name": "stderr",
     "output_type": "stream",
     "text": [
      "317.22s - pydevd: Sending message related to process being replaced timed-out after 5 seconds\n"
     ]
    },
    {
     "name": "stdout",
     "output_type": "stream",
     "text": [
      ">"
     ]
    }
   ],
   "source": [
    "! alias kubectl=\"/usr/local/bin/kubectl\"\n",
    "! kubectl exec -it kafka-client -- /opt/bitnami/kafka/bin/kafka-topics.sh --create --topic test-topic --bootstrap-server kafka-0.kafka-svc.default.svc.cluster.local:9092 --replication-factor 1 --partitions 1\n",
    "\n",
    "! kubectl exec -it kafka-client -- /opt/bitnami/kafka/bin/kafka-console-producer.sh --topic test-topic --bootstrap-server kafka-0.kafka-svc.default.svc.cluster.local:9092\n",
    "\n",
    "! kubectl exec -it kafka-client -- /opt/bitnami/kafka/bin/kafka-console-consumer.sh --topic test-topic --from-beginning --bootstrap-server kafka-0.kafka-svc.default.svc.cluster.local:9092\n",
    "\n",
    "! kubectl exec -it kafka-client -- /opt/bitnami/kafka/bin/kafka-topics.sh --describe --topic test-topic --bootstrap-server kafka-0.kafka-svc.default.svc.cluster.local:9092\n",
    "\n",
    "! kubectl exec -it kafka-client -- /opt/bitnami/kafka/bin/kafka-topics.sh --alter --topic test-topic --bootstrap-server kafka-0.kafka-svc.default.svc.cluster.local:9092 --partitions 3\n",
    "\n",
    "! kubectl exec -it kafka-client -- /opt/bitnami/kafka/bin/kafka-topics.sh --describe --topic test-topic --bootstrap-server kafka-0.kafka-svc.default.svc.cluster.local:9092\n",
    "\n",
    "! kubectl exec -it kafka-client -- /opt/bitnami/kafka/bin/kafka-topics.sh --delete --topic test-topic --bootstrap-server kafka-0.kafka-svc.default.svc.cluster.local:9092\n"
   ]
  }
 ],
 "metadata": {
  "kernelspec": {
   "display_name": "Python 3",
   "language": "python",
   "name": "python3"
  },
  "language_info": {
   "codemirror_mode": {
    "name": "ipython",
    "version": 3
   },
   "file_extension": ".py",
   "mimetype": "text/x-python",
   "name": "python",
   "nbconvert_exporter": "python",
   "pygments_lexer": "ipython3",
   "version": "3.9.2"
  },
  "orig_nbformat": 4
 },
 "nbformat": 4,
 "nbformat_minor": 2
}
